{
 "cells": [
  {
   "cell_type": "code",
   "execution_count": 4,
   "metadata": {},
   "outputs": [
    {
     "name": "stdout",
     "output_type": "stream",
     "text": [
      "Extracting ./train-images-idx3-ubyte.gz\n",
      "Extracting ./train-labels-idx1-ubyte.gz\n",
      "Extracting ./t10k-images-idx3-ubyte.gz\n",
      "Extracting ./t10k-labels-idx1-ubyte.gz\n"
     ]
    }
   ],
   "source": [
    "# import the noMNIST Dataset\n",
    "from tensorflow.examples.tutorials.mnist import input_data\n",
    "mnist = input_data.read_data_sets('.',one_hot=True,reshape=False)"
   ]
  },
  {
   "cell_type": "code",
   "execution_count": 9,
   "metadata": {},
   "outputs": [],
   "source": [
    "# import tensorflow\n",
    "\n",
    "import tensorflow as tf"
   ]
  },
  {
   "cell_type": "code",
   "execution_count": 6,
   "metadata": {
    "collapsed": true
   },
   "outputs": [],
   "source": [
    "# Parameters\n",
    "\n",
    "learning_rate = 0.01\n",
    "batch_size = 128\n",
    "epochs = 10"
   ]
  },
  {
   "cell_type": "code",
   "execution_count": 7,
   "metadata": {
    "collapsed": true
   },
   "outputs": [],
   "source": [
    "# Validation set size \n",
    "\n",
    "test_valid_size = 256"
   ]
  },
  {
   "cell_type": "code",
   "execution_count": 8,
   "metadata": {
    "collapsed": true
   },
   "outputs": [],
   "source": [
    "#Network Parameters\n",
    "\n",
    "n_classes = 10\n",
    "dropout = 0.75  # Probablity to keep units\n"
   ]
  },
  {
   "cell_type": "code",
   "execution_count": 64,
   "metadata": {
    "collapsed": true
   },
   "outputs": [],
   "source": [
    "# weights and biases\n",
    "\n",
    "weights = {\"wc1\" : tf.Variable(tf.truncated_normal([5,5,1,32])),\n",
    "           \"wc2\" : tf.Variable(tf.truncated_normal([5,5,32,64])),\n",
    "           \"wd1\" : tf.Variable(tf.truncated_normal([7*7*64,1024])),\n",
    "           \"out\" : tf.Variable(tf.truncated_normal([1024,n_classes]))}\n",
    "\n",
    "biases =  {\"bc1\" : tf.Variable(tf.random_normal([32])),\n",
    "           \"bc2\" : tf.Variable(tf.random_normal([64])),\n",
    "           \"bd1\" : tf.Variable(tf.random_normal([1024])),\n",
    "           \"out\" : tf.Variable(tf.random_normal([n_classes]))}"
   ]
  },
  {
   "cell_type": "code",
   "execution_count": 65,
   "metadata": {},
   "outputs": [],
   "source": [
    "# convolutions\n",
    "\n",
    "def conv2d(x,W,b,strides=1):\n",
    "    \n",
    "    x = tf.nn.conv2d(x,W,strides = [1,strides,strides,1], padding = \"SAME\")\n",
    "    x = tf.nn.bias_add(x,b)\n",
    "    x = tf.nn.relu(x)\n",
    "    \n",
    "    return x"
   ]
  },
  {
   "cell_type": "code",
   "execution_count": 66,
   "metadata": {
    "collapsed": true
   },
   "outputs": [],
   "source": [
    "# MaxPooling\n",
    "\n",
    "def maxPool2d(x,k = 2):\n",
    "    \n",
    "    x = tf.nn.max_pool(x,ksize=[1,k,k,1],strides=[1,k,k,1],padding=\"SAME\")\n",
    "    return x"
   ]
  },
  {
   "cell_type": "code",
   "execution_count": 70,
   "metadata": {
    "collapsed": true
   },
   "outputs": [],
   "source": [
    "# Our Convolutional Neural Network Model\n",
    "\n",
    "def conv2_net(x,weights,biases,dropout):\n",
    "    \n",
    "    #Convolution 1\n",
    "    \n",
    "    conv1 = conv2d(x,weights[\"wc1\"],biases[\"bc1\"],1)\n",
    "    conv1 = maxPool2d(conv1,k=2)\n",
    "    \n",
    "    #Convolution 2\n",
    "    \n",
    "    conv2 = conv2d(conv1,weights[\"wc2\"],biases[\"bc2\"],1)\n",
    "    conv2 = maxPool2d(conv2,k=2)\n",
    "    \n",
    "    #Fully Connected\n",
    "    fc1 = tf.reshape(conv2,[-1,weights[\"wd1\"].get_shape().as_list()[0]])\n",
    "    fc1 = tf.add(tf.matmul(fc1,weights[\"wd1\"]),biases[\"bd1\"])\n",
    "    fc1 = tf.nn.relu(fc1)\n",
    "    fc1 = tf.nn.dropout(fc1,dropout)\n",
    "    \n",
    "    output = tf.add(tf.matmul(fc1,weights[\"out\"]),biases[\"out\"])\n",
    "    \n",
    "    return output\n",
    "    "
   ]
  },
  {
   "cell_type": "code",
   "execution_count": 76,
   "metadata": {
    "collapsed": true
   },
   "outputs": [],
   "source": [
    "x = tf.placeholder(\"float\",[None,28,28,1]) # graph input\n",
    "y = tf.placeholder(\"float\") #graph output\n",
    "keep_prob = tf.placeholder(\"float\")"
   ]
  },
  {
   "cell_type": "code",
   "execution_count": null,
   "metadata": {},
   "outputs": [],
   "source": [
    "# Training\n",
    "\n",
    "logits = conv2_net(x,weights,biases,keep_prob)\n",
    "cost = tf.reduce_mean(tf.nn.softmax_cross_entropy_with_logits(logits = logits,labels=y))\n",
    "optimizer = tf.train.AdamOptimizer(learning_rate = learning_rate).minimize(cost)\n",
    "\n",
    "#Accuracy \n",
    "\n",
    "correct_pred = tf.equal(tf.argmax(logits, 1), tf.argmax(y, 1))\n",
    "accuracy = tf.reduce_mean(tf.cast(correct_pred, tf.float32))\n",
    "    \n",
    "init = tf.global_variables_initializer()\n",
    "\n",
    "with tf.Session() as sess:\n",
    "    \n",
    "    sess.run(init)\n",
    "    \n",
    "    for epoch in range(epochs):\n",
    "        \n",
    "        for batch in range(int(mnist.train.num_examples/batch_size)):\n",
    "            \n",
    "            batch_x,batch_y = mnist.train.next_batch(batch_size)\n",
    "            sess.run(optimizer,feed_dict = {x : batch_x , y : batch_y ,keep_prob : dropout})\n",
    "            \n",
    "            \n",
    "        # Calculate batch loss and accuracy\n",
    "        loss = sess.run(cost, feed_dict={x: batch_x,y: batch_y,keep_prob: 1.})\n",
    "            \n",
    "        valid_acc = sess.run(accuracy, feed_dict={x: mnist.validation.images[:test_valid_size],y: mnist.validation.labels[:test_valid_size],keep_prob: 1.})\n",
    "    \n",
    "    \n",
    "        print('Epoch {:>2}, Batch {:>3} - ''Loss: {:>10.4f} Validation Accuracy: {:.6f}'.format(epoch + 1,batch + 1,loss,valid_acc))\n",
    "    \n",
    "    # Calculate Test Accuracy\n",
    "    test_acc = sess.run(accuracy, feed_dict={\n",
    "        x: mnist.test.images[:test_valid_size],\n",
    "        y: mnist.test.labels[:test_valid_size],\n",
    "        keep_prob: 1.})\n",
    "    print('Testing Accuracy: {}'.format(test_acc))"
   ]
  },
  {
   "cell_type": "code",
   "execution_count": null,
   "metadata": {
    "collapsed": true
   },
   "outputs": [],
   "source": []
  },
  {
   "cell_type": "code",
   "execution_count": null,
   "metadata": {
    "collapsed": true
   },
   "outputs": [],
   "source": []
  }
 ],
 "metadata": {
  "kernelspec": {
   "display_name": "Python [conda env:tensorflow]",
   "language": "python",
   "name": "conda-env-tensorflow-py"
  },
  "language_info": {
   "codemirror_mode": {
    "name": "ipython",
    "version": 3
   },
   "file_extension": ".py",
   "mimetype": "text/x-python",
   "name": "python",
   "nbconvert_exporter": "python",
   "pygments_lexer": "ipython3",
   "version": "3.5.4"
  }
 },
 "nbformat": 4,
 "nbformat_minor": 2
}
